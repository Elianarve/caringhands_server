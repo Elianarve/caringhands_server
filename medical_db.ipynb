{
 "cells": [
  {
   "cell_type": "code",
   "execution_count": 2,
   "metadata": {},
   "outputs": [],
   "source": [
    "from langchain_community.document_loaders import PubMedLoader\n",
    "from langchain.text_splitter import RecursiveCharacterTextSplitter\n",
    "from langchain_community.embeddings import HuggingFaceEmbeddings\n",
    "from langchain_community.vectorstores import Chroma\n",
    "from langchain_groq import ChatGroq\n",
    "from langchain.prompts import ChatPromptTemplate\n",
    "from langchain.schema.runnable import RunnablePassthrough\n",
    "from langchain.schema.output_parser import StrOutputParser\n",
    "from langchain_core.documents import Document\n"
   ]
  },
  {
   "cell_type": "code",
   "execution_count": 3,
   "metadata": {},
   "outputs": [],
   "source": [
    "# Cargar documentos relevantes desde PubMed\n",
    "\n",
    "loader = PubMedLoader(query=\"overweight OR diet OR cholesterol OR nutrition OR exercice\", load_max_docs=3000)\n",
    "\n",
    "docs = loader.load()\n",
    "\n",
    "# Text splitting\n",
    "text_splitter = RecursiveCharacterTextSplitter(\n",
    "    chunk_size=500,\n",
    "    chunk_overlap=50,\n",
    "    length_function=len,\n",
    "    is_separator_regex=False\n",
    ")\n",
    "docs_split = text_splitter.split_documents(docs)\n",
    "\n",
    "# print(docs_split[0])\n",
    "\n"
   ]
  },
  {
   "cell_type": "code",
   "execution_count": 4,
   "metadata": {},
   "outputs": [],
   "source": [
    "def convert_and_filter_metadata(doc):\n",
    "    def flatten_metadata_value(value):\n",
    "        if isinstance(value, dict):\n",
    "            # Convertir el diccionario en un string\n",
    "            return \"; \".join([f\"{k}: {v}\" for k, v in value.items()])\n",
    "        return value\n",
    "    \n",
    "    # Filtrado de metadatos y diccionarios anidados\n",
    "    filtered_metadata = {\n",
    "        k: flatten_metadata_value(v) \n",
    "        for k, v in doc.metadata.items() \n",
    "        if isinstance(v, (str, int, float, bool, dict))\n",
    "    }\n",
    "    \n",
    "    return Document(page_content=doc.page_content, metadata=filtered_metadata)\n",
    "\n",
    "# Procesado de los documentos\n",
    "docs_processed = [convert_and_filter_metadata(doc) for doc in docs_split]"
   ]
  },
  {
   "cell_type": "code",
   "execution_count": 7,
   "metadata": {},
   "outputs": [],
   "source": [
    "\n",
    "# Creamos embeddings\n",
    "embeddings = HuggingFaceEmbeddings(model_name=\"sentence-transformers/all-MiniLM-L6-v2\")\n",
    "\n",
    "# Creaamos una Chroma vector store\n",
    "vectorstore = Chroma.from_documents(\n",
    "    documents=docs_processed,\n",
    "    embedding=embeddings,\n",
    "    persist_directory=\"./chroma_db1\"\n",
    ")\n",
    "\n",
    "\n",
    "# instancia de retreiver\n",
    "retriever = vectorstore.as_retriever(search_type=\"mmr\", search_kwargs={\"k\": 5, \"fetch_k\": 20})"
   ]
  }
 ],
 "metadata": {
  "kernelspec": {
   "display_name": "Python 3",
   "language": "python",
   "name": "python3"
  },
  "language_info": {
   "codemirror_mode": {
    "name": "ipython",
    "version": 3
   },
   "file_extension": ".py",
   "mimetype": "text/x-python",
   "name": "python",
   "nbconvert_exporter": "python",
   "pygments_lexer": "ipython3",
   "version": "3.11.9"
  }
 },
 "nbformat": 4,
 "nbformat_minor": 2
}
